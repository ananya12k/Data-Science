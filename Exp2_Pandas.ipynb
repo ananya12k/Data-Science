{
 "cells": [
  {
   "cell_type": "markdown",
   "id": "d92e5eda-a390-4109-967e-65e3d04e1d02",
   "metadata": {},
   "source": [
    "Pandas is built on numpy, \n",
    "It has dataframes and dataseries\n",
    "Pandas is data analysis library\n",
    "We can manage clean analyze, model and plot  the data\n",
    "There are 2 DS in pandas \n",
    "1. Series -1D array\n",
    "2. DataFrame -2D array\n",
    "pd is alias for pandas"
   ]
  },
  {
   "cell_type": "code",
   "execution_count": 166,
   "id": "a253cca3-dc35-415a-a619-197479fe5fe8",
   "metadata": {},
   "outputs": [],
   "source": [
    "import pandas as pd\n",
    "import statistics as st\n",
    "import numpy as np"
   ]
  },
  {
   "cell_type": "code",
   "execution_count": 167,
   "id": "1360743f-2ca6-4529-bead-1b6ce40f09f4",
   "metadata": {},
   "outputs": [
    {
     "data": {
      "text/plain": [
       "0    NJ\n",
       "1    CA\n",
       "2    ND\n",
       "3    OH\n",
       "dtype: object"
      ]
     },
     "execution_count": 167,
     "metadata": {},
     "output_type": "execute_result"
    }
   ],
   "source": [
    "# Example 1\n",
    "obj=pd.Series(['NJ','CA','ND','OH'])\n",
    "obj"
   ]
  },
  {
   "cell_type": "code",
   "execution_count": 168,
   "id": "59b681ce-a4f1-4922-9236-7249f4252b58",
   "metadata": {},
   "outputs": [
    {
     "data": {
      "text/plain": [
       "array(['NJ', 'CA', 'ND', 'OH'], dtype=object)"
      ]
     },
     "execution_count": 168,
     "metadata": {},
     "output_type": "execute_result"
    }
   ],
   "source": [
    "obj.values"
   ]
  },
  {
   "cell_type": "code",
   "execution_count": 169,
   "id": "d68e4dc8-45bd-4a7e-a68c-fd1cd792fd67",
   "metadata": {},
   "outputs": [
    {
     "data": {
      "text/plain": [
       "RangeIndex(start=0, stop=4, step=1)"
      ]
     },
     "execution_count": 169,
     "metadata": {},
     "output_type": "execute_result"
    }
   ],
   "source": [
    "obj.index"
   ]
  },
  {
   "cell_type": "code",
   "execution_count": 170,
   "id": "1c6dfca1-4e66-4e1b-924a-f586d200310d",
   "metadata": {},
   "outputs": [
    {
     "data": {
      "text/plain": [
       "0    1\n",
       "1    2\n",
       "2    3\n",
       "3    4\n",
       "dtype: int64"
      ]
     },
     "execution_count": 170,
     "metadata": {},
     "output_type": "execute_result"
    }
   ],
   "source": [
    "# Example 2\n",
    "obj2=pd.Series([1,2,3,4])\n",
    "obj2"
   ]
  },
  {
   "cell_type": "code",
   "execution_count": 171,
   "id": "b919612c-57cb-4d69-a350-608cf5dcb526",
   "metadata": {},
   "outputs": [
    {
     "data": {
      "text/plain": [
       "array([1, 2, 3, 4], dtype=int64)"
      ]
     },
     "execution_count": 171,
     "metadata": {},
     "output_type": "execute_result"
    }
   ],
   "source": [
    "obj2.values"
   ]
  },
  {
   "cell_type": "code",
   "execution_count": 172,
   "id": "e94bfc12-066b-497a-b147-9e2adf4e320e",
   "metadata": {},
   "outputs": [
    {
     "data": {
      "text/plain": [
       "RangeIndex(start=0, stop=4, step=1)"
      ]
     },
     "execution_count": 172,
     "metadata": {},
     "output_type": "execute_result"
    }
   ],
   "source": [
    "obj2.index"
   ]
  },
  {
   "cell_type": "code",
   "execution_count": 173,
   "id": "52f14edd-af01-43d6-9dab-aedac7b63639",
   "metadata": {},
   "outputs": [],
   "source": [
    "# Create Index of my own choice\n",
    "obj3=pd.Series([1,2,3,4],index=['d','c','b','a'])"
   ]
  },
  {
   "cell_type": "code",
   "execution_count": 174,
   "id": "d1e84bab-f53f-4526-b36d-8f3fe95752ea",
   "metadata": {},
   "outputs": [
    {
     "data": {
      "text/plain": [
       "d    1\n",
       "c    2\n",
       "b    3\n",
       "a    4\n",
       "dtype: int64"
      ]
     },
     "execution_count": 174,
     "metadata": {},
     "output_type": "execute_result"
    }
   ],
   "source": [
    "obj3"
   ]
  },
  {
   "cell_type": "code",
   "execution_count": 175,
   "id": "43106041-8e4d-46da-ad04-56eb2f58ff50",
   "metadata": {},
   "outputs": [
    {
     "data": {
      "text/plain": [
       "2"
      ]
     },
     "execution_count": 175,
     "metadata": {},
     "output_type": "execute_result"
    }
   ],
   "source": [
    "obj3['c']\n",
    "# loc refers to label index\n",
    "# iloc refers to positional index"
   ]
  },
  {
   "cell_type": "code",
   "execution_count": 176,
   "id": "dd24d61e-59cc-4982-b416-65e3febbc5d6",
   "metadata": {},
   "outputs": [
    {
     "data": {
      "text/plain": [
       "'red'"
      ]
     },
     "execution_count": 176,
     "metadata": {},
     "output_type": "execute_result"
    }
   ],
   "source": [
    "colors=pd.Series(['red','purple','blue'],index=[1,2,3])\n",
    "colors[1]"
   ]
  },
  {
   "cell_type": "code",
   "execution_count": 177,
   "id": "abface50-ec0a-4855-9c02-861cd3bc9970",
   "metadata": {},
   "outputs": [
    {
     "data": {
      "text/plain": [
       "'red'"
      ]
     },
     "execution_count": 177,
     "metadata": {},
     "output_type": "execute_result"
    }
   ],
   "source": [
    "colors.loc[1]"
   ]
  },
  {
   "cell_type": "code",
   "execution_count": 178,
   "id": "c75d4e8d-cd24-4111-aa74-7a1e9216d004",
   "metadata": {},
   "outputs": [
    {
     "data": {
      "text/plain": [
       "'purple'"
      ]
     },
     "execution_count": 178,
     "metadata": {},
     "output_type": "execute_result"
    }
   ],
   "source": [
    "colors.iloc[1]"
   ]
  },
  {
   "cell_type": "code",
   "execution_count": 179,
   "id": "8efa57a6-9d4a-482e-a67f-e5b17e3e8f87",
   "metadata": {},
   "outputs": [
    {
     "data": {
      "text/plain": [
       "1       red\n",
       "2    purple\n",
       "dtype: object"
      ]
     },
     "execution_count": 179,
     "metadata": {},
     "output_type": "execute_result"
    }
   ],
   "source": [
    "# Slicing\n",
    "colors.loc[1:2]"
   ]
  },
  {
   "cell_type": "code",
   "execution_count": 180,
   "id": "c2f5c78c-90cd-40df-b8e5-5ffca331af19",
   "metadata": {},
   "outputs": [
    {
     "data": {
      "text/plain": [
       "2    purple\n",
       "dtype: object"
      ]
     },
     "execution_count": 180,
     "metadata": {},
     "output_type": "execute_result"
    }
   ],
   "source": [
    "colors.iloc[1:2]"
   ]
  },
  {
   "cell_type": "code",
   "execution_count": 181,
   "id": "e62d7d1e-8ca3-429f-96c1-b4d2e9880871",
   "metadata": {},
   "outputs": [
    {
     "data": {
      "text/plain": [
       "'purple'"
      ]
     },
     "execution_count": 181,
     "metadata": {},
     "output_type": "execute_result"
    }
   ],
   "source": [
    "colors.iloc[-2]"
   ]
  },
  {
   "cell_type": "code",
   "execution_count": 182,
   "id": "f49c68bd-b4aa-4756-81d4-0a20c7b01ff5",
   "metadata": {},
   "outputs": [],
   "source": [
    "ser=pd.Series(range(4),index=list('abad'))\n",
    "res=ser['a']\n",
    "# index items do not have to be unique\n",
    "# series index can be alteres"
   ]
  },
  {
   "cell_type": "code",
   "execution_count": 183,
   "id": "1981b2e3-771a-472c-9493-6754bf1cc477",
   "metadata": {},
   "outputs": [
    {
     "data": {
      "text/plain": [
       "a    0\n",
       "a    2\n",
       "dtype: int64"
      ]
     },
     "execution_count": 183,
     "metadata": {},
     "output_type": "execute_result"
    }
   ],
   "source": [
    "res"
   ]
  },
  {
   "cell_type": "code",
   "execution_count": 184,
   "id": "44513686-6c24-4d23-a7bc-241d49bdfed0",
   "metadata": {},
   "outputs": [
    {
     "data": {
      "text/plain": [
       "a    0\n",
       "b    1\n",
       "c    2\n",
       "d    3\n",
       "dtype: int64"
      ]
     },
     "execution_count": 184,
     "metadata": {},
     "output_type": "execute_result"
    }
   ],
   "source": [
    "ser.index=(['a','b','c','d'])\n",
    "ser"
   ]
  },
  {
   "cell_type": "code",
   "execution_count": 185,
   "id": "4f8e8adb-5cad-41ce-82e5-e93d906ca997",
   "metadata": {},
   "outputs": [
    {
     "data": {
      "text/plain": [
       "a    False\n",
       "b    False\n",
       "c     True\n",
       "d     True\n",
       "dtype: bool"
      ]
     },
     "execution_count": 185,
     "metadata": {},
     "output_type": "execute_result"
    }
   ],
   "source": [
    "ser>1"
   ]
  },
  {
   "cell_type": "code",
   "execution_count": 186,
   "id": "2437e90c-c05b-4813-9806-5799c55bf615",
   "metadata": {},
   "outputs": [
    {
     "data": {
      "text/plain": [
       "a     True\n",
       "b    False\n",
       "c    False\n",
       "d    False\n",
       "dtype: bool"
      ]
     },
     "execution_count": 186,
     "metadata": {},
     "output_type": "execute_result"
    }
   ],
   "source": [
    "ser<1"
   ]
  },
  {
   "cell_type": "code",
   "execution_count": 187,
   "id": "39cd46d2-f009-4c95-9a24-71b506780d08",
   "metadata": {},
   "outputs": [
    {
     "data": {
      "text/plain": [
       "a    0\n",
       "b    2\n",
       "c    4\n",
       "d    6\n",
       "dtype: int64"
      ]
     },
     "execution_count": 187,
     "metadata": {},
     "output_type": "execute_result"
    }
   ],
   "source": [
    "ser*2"
   ]
  },
  {
   "cell_type": "code",
   "execution_count": 188,
   "id": "05ea1cfd-46cc-496e-9d32-a4bf68136329",
   "metadata": {},
   "outputs": [],
   "source": [
    "data={'Ohio':3000,'Texas':2000,'Utah':5000} #Converting Dictionary to Pandas Series\n",
    "obj4=pd.Series(data)\n",
    "# Keys will become index"
   ]
  },
  {
   "cell_type": "code",
   "execution_count": 189,
   "id": "0adfa0a0-a90d-444f-a63c-e8c11912db56",
   "metadata": {},
   "outputs": [
    {
     "data": {
      "text/plain": [
       "Ohio     3000\n",
       "Texas    2000\n",
       "Utah     5000\n",
       "dtype: int64"
      ]
     },
     "execution_count": 189,
     "metadata": {},
     "output_type": "execute_result"
    }
   ],
   "source": [
    "obj4"
   ]
  },
  {
   "cell_type": "code",
   "execution_count": 190,
   "id": "fd6c286c-d9b5-42a6-8f7c-bd797e601af3",
   "metadata": {},
   "outputs": [],
   "source": [
    "# Pandas can accomodate incomplete data\n",
    "# DataFrame has ordered collection of rows and columns\n",
    "per=[['Alex',10],['Bob',20],['Clark',30]] #dtype=float gives float values\n",
    "df=pd.DataFrame(per,columns=['Name','Age'])"
   ]
  },
  {
   "cell_type": "code",
   "execution_count": 191,
   "id": "c845718c-1649-4698-9910-fd330223150d",
   "metadata": {},
   "outputs": [
    {
     "data": {
      "text/html": [
       "<div>\n",
       "<style scoped>\n",
       "    .dataframe tbody tr th:only-of-type {\n",
       "        vertical-align: middle;\n",
       "    }\n",
       "\n",
       "    .dataframe tbody tr th {\n",
       "        vertical-align: top;\n",
       "    }\n",
       "\n",
       "    .dataframe thead th {\n",
       "        text-align: right;\n",
       "    }\n",
       "</style>\n",
       "<table border=\"1\" class=\"dataframe\">\n",
       "  <thead>\n",
       "    <tr style=\"text-align: right;\">\n",
       "      <th></th>\n",
       "      <th>Name</th>\n",
       "      <th>Age</th>\n",
       "    </tr>\n",
       "  </thead>\n",
       "  <tbody>\n",
       "    <tr>\n",
       "      <th>0</th>\n",
       "      <td>Alex</td>\n",
       "      <td>10</td>\n",
       "    </tr>\n",
       "    <tr>\n",
       "      <th>1</th>\n",
       "      <td>Bob</td>\n",
       "      <td>20</td>\n",
       "    </tr>\n",
       "    <tr>\n",
       "      <th>2</th>\n",
       "      <td>Clark</td>\n",
       "      <td>30</td>\n",
       "    </tr>\n",
       "  </tbody>\n",
       "</table>\n",
       "</div>"
      ],
      "text/plain": [
       "    Name  Age\n",
       "0   Alex   10\n",
       "1    Bob   20\n",
       "2  Clark   30"
      ]
     },
     "execution_count": 191,
     "metadata": {},
     "output_type": "execute_result"
    }
   ],
   "source": [
    "df"
   ]
  },
  {
   "cell_type": "code",
   "execution_count": 192,
   "id": "e221b8ff-1077-4bd4-b1cc-a3226c67517e",
   "metadata": {},
   "outputs": [],
   "source": [
    "nm=[['Alex',10],['Bob',20],['Clark',30]] #dtype=float gives float values\n",
    "# df2=pd.DataFrame(nm,columns=['Name','Age'],dtype=float)\n",
    "# df2"
   ]
  },
  {
   "cell_type": "code",
   "execution_count": 193,
   "id": "a3b9d972-6dd3-4a34-bbe8-49b55d5a3b83",
   "metadata": {},
   "outputs": [
    {
     "data": {
      "text/html": [
       "<div>\n",
       "<style scoped>\n",
       "    .dataframe tbody tr th:only-of-type {\n",
       "        vertical-align: middle;\n",
       "    }\n",
       "\n",
       "    .dataframe tbody tr th {\n",
       "        vertical-align: top;\n",
       "    }\n",
       "\n",
       "    .dataframe thead th {\n",
       "        text-align: right;\n",
       "    }\n",
       "</style>\n",
       "<table border=\"1\" class=\"dataframe\">\n",
       "  <thead>\n",
       "    <tr style=\"text-align: right;\">\n",
       "      <th></th>\n",
       "      <th>state</th>\n",
       "      <th>year</th>\n",
       "      <th>pop</th>\n",
       "    </tr>\n",
       "  </thead>\n",
       "  <tbody>\n",
       "    <tr>\n",
       "      <th>0</th>\n",
       "      <td>GJ</td>\n",
       "      <td>2017</td>\n",
       "      <td>10.2</td>\n",
       "    </tr>\n",
       "    <tr>\n",
       "      <th>1</th>\n",
       "      <td>RJ</td>\n",
       "      <td>2018</td>\n",
       "      <td>11.2</td>\n",
       "    </tr>\n",
       "    <tr>\n",
       "      <th>2</th>\n",
       "      <td>MH</td>\n",
       "      <td>2019</td>\n",
       "      <td>36.2</td>\n",
       "    </tr>\n",
       "  </tbody>\n",
       "</table>\n",
       "</div>"
      ],
      "text/plain": [
       "  state  year   pop\n",
       "0    GJ  2017  10.2\n",
       "1    RJ  2018  11.2\n",
       "2    MH  2019  36.2"
      ]
     },
     "execution_count": 193,
     "metadata": {},
     "output_type": "execute_result"
    }
   ],
   "source": [
    "# Create DF from dictionaries\n",
    "# Keys are taken as column names\n",
    "state={'state':['GJ','RJ','MH'],\n",
    "      'year':[2017,2018,2019],\n",
    "      'pop':[10.2,11.2,36.2]}\n",
    "df2=pd.DataFrame(state)\n",
    "df2"
   ]
  },
  {
   "cell_type": "code",
   "execution_count": 194,
   "id": "b7dadd55-5b28-4ba3-bea6-40eb6ff23fcf",
   "metadata": {},
   "outputs": [
    {
     "name": "stdout",
     "output_type": "stream",
     "text": [
      "Printing Columns:\n",
      "Year\n",
      "Month\n",
      "Tmax\n",
      "Tmin\n",
      "Rain\n"
     ]
    }
   ],
   "source": [
    "# Loading Data from csv file \n",
    "mydf=pd.read_csv('weather.csv')\n",
    "print('Printing Columns:')\n",
    "for col in mydf.columns:\n",
    "    print(col) #can apply sorting on columns"
   ]
  },
  {
   "cell_type": "code",
   "execution_count": 195,
   "id": "848189c4-7db5-4397-8c44-bb927e77021b",
   "metadata": {},
   "outputs": [
    {
     "name": "stdout",
     "output_type": "stream",
     "text": [
      "Printing Data\n",
      "    Year  Month    Tmax  Tmin   Rain\n",
      "0   2018      1   26.50   3.2   0.00\n",
      "1   2018      2   29.80   9.9   0.00\n",
      "2   2018      3   35.10  32.6   0.00\n",
      "3   2018      4   29.60  23.6   0.00\n",
      "4   2018      5    3.10   2.0   0.00\n",
      "5   2018      6   56.10  32.6   0.00\n",
      "6   2018      7  256.10  65.2  23.50\n",
      "7   2018      8   56.10  24.2  25.36\n",
      "8   2018      9   32.10  26.1  25.30\n",
      "9   2018     10   23.10   3.2   0.00\n",
      "10  2018     11   32.50   2.0   0.00\n",
      "11  2018     12   23.56  13.5   0.00\n"
     ]
    }
   ],
   "source": [
    "print(\"Printing Data\")\n",
    "print(mydf)"
   ]
  },
  {
   "cell_type": "code",
   "execution_count": 196,
   "id": "42ebfe64-5b52-4cf6-83bd-93225a996e77",
   "metadata": {},
   "outputs": [],
   "source": [
    "# If CSV doesn't have header we have to add headers:\n",
    "# header=['year','months']"
   ]
  },
  {
   "cell_type": "code",
   "execution_count": 197,
   "id": "237395fd-811a-4546-9441-d61ca6a43f14",
   "metadata": {},
   "outputs": [],
   "source": [
    "# We can specify index of our own by specifying a columns\n",
    "# new=pd.read_csv('weather.csv',index_col='month')\n",
    "# print(new)"
   ]
  },
  {
   "cell_type": "code",
   "execution_count": 198,
   "id": "58da5cbb-842e-4c19-a338-569147e82609",
   "metadata": {},
   "outputs": [],
   "source": [
    "# We can specify the position of columns as well"
   ]
  },
  {
   "cell_type": "markdown",
   "id": "7ca475ba-f4a5-4b13-b82d-820d5ef7214e",
   "metadata": {},
   "source": [
    "1. head() -gives 1st 5records\n",
    "2. tail() -gives last 5 records\n",
    "3. shape -gives dimension of data"
   ]
  },
  {
   "cell_type": "code",
   "execution_count": 199,
   "id": "54fe9942-0c89-4bf2-8ea1-4f47f932b244",
   "metadata": {},
   "outputs": [
    {
     "name": "stdout",
     "output_type": "stream",
     "text": [
      "   Year  Month  Tmax  Tmin  Rain\n",
      "0  2018      1  26.5   3.2   0.0\n",
      "1  2018      2  29.8   9.9   0.0\n",
      "2  2018      3  35.1  32.6   0.0\n",
      "3  2018      4  29.6  23.6   0.0\n",
      "4  2018      5   3.1   2.0   0.0\n"
     ]
    }
   ],
   "source": [
    "print(mydf.head())"
   ]
  },
  {
   "cell_type": "code",
   "execution_count": 200,
   "id": "f1718969-60c5-498c-92e2-b016781a16ac",
   "metadata": {},
   "outputs": [
    {
     "name": "stdout",
     "output_type": "stream",
     "text": [
      "    Year  Month   Tmax  Tmin   Rain\n",
      "7   2018      8  56.10  24.2  25.36\n",
      "8   2018      9  32.10  26.1  25.30\n",
      "9   2018     10  23.10   3.2   0.00\n",
      "10  2018     11  32.50   2.0   0.00\n",
      "11  2018     12  23.56  13.5   0.00\n"
     ]
    }
   ],
   "source": [
    "print(mydf.tail())"
   ]
  },
  {
   "cell_type": "code",
   "execution_count": 201,
   "id": "10d8ccb6-201e-4ce6-bc63-8660c5dad892",
   "metadata": {},
   "outputs": [
    {
     "name": "stdout",
     "output_type": "stream",
     "text": [
      "(12, 5)\n"
     ]
    }
   ],
   "source": [
    "print(mydf.shape)"
   ]
  },
  {
   "cell_type": "code",
   "execution_count": 202,
   "id": "e82721f5-fcda-4364-a02d-7a0173961e7b",
   "metadata": {},
   "outputs": [
    {
     "name": "stdout",
     "output_type": "stream",
     "text": [
      "   Year  Month   Tmax  Tmin   Rain\n",
      "2  2018      3   35.1  32.6   0.00\n",
      "5  2018      6   56.1  32.6   0.00\n",
      "6  2018      7  256.1  65.2  23.50\n",
      "7  2018      8   56.1  24.2  25.36\n"
     ]
    }
   ],
   "source": [
    "new_data=mydf[mydf['Tmax']>35] \n",
    "print(new_data)"
   ]
  },
  {
   "cell_type": "code",
   "execution_count": 203,
   "id": "892bed18-24f5-40ec-aa13-62322ab72d0e",
   "metadata": {},
   "outputs": [
    {
     "data": {
      "text/plain": [
       "0     False\n",
       "1     False\n",
       "2      True\n",
       "3     False\n",
       "4     False\n",
       "5      True\n",
       "6      True\n",
       "7      True\n",
       "8     False\n",
       "9     False\n",
       "10    False\n",
       "11    False\n",
       "Name: Tmax, dtype: bool"
      ]
     },
     "execution_count": 203,
     "metadata": {},
     "output_type": "execute_result"
    }
   ],
   "source": [
    "mydf['Tmax']>35 #return boolean"
   ]
  },
  {
   "cell_type": "code",
   "execution_count": 204,
   "id": "8a71df5b-a758-4d1e-b183-19760d00e54d",
   "metadata": {},
   "outputs": [],
   "source": [
    "# ew=mydf[mydf['Tmax']>35 & mydf['Rain']>0] "
   ]
  },
  {
   "cell_type": "code",
   "execution_count": 205,
   "id": "be050b2a-a089-4122-96a4-bebd34577f26",
   "metadata": {},
   "outputs": [],
   "source": [
    "# print(ew)"
   ]
  },
  {
   "cell_type": "code",
   "execution_count": 206,
   "id": "e85e98b5-59ef-44ee-8e31-cde467adbe40",
   "metadata": {},
   "outputs": [],
   "source": [
    "rain=mydf['Rain']"
   ]
  },
  {
   "cell_type": "code",
   "execution_count": 207,
   "id": "afd4bc8b-8e3d-4506-8796-09bd08b27e05",
   "metadata": {},
   "outputs": [],
   "source": [
    "max=rain.max()"
   ]
  },
  {
   "cell_type": "code",
   "execution_count": 208,
   "id": "a81aaa71-0481-47c7-add0-a71f86a01fc5",
   "metadata": {},
   "outputs": [
    {
     "data": {
      "text/plain": [
       "25.36"
      ]
     },
     "execution_count": 208,
     "metadata": {},
     "output_type": "execute_result"
    }
   ],
   "source": [
    "max"
   ]
  },
  {
   "cell_type": "code",
   "execution_count": 209,
   "id": "0af99c9c-4933-4ee8-8235-9ce034acc05b",
   "metadata": {},
   "outputs": [],
   "source": [
    "min=rain.min()"
   ]
  },
  {
   "cell_type": "code",
   "execution_count": 210,
   "id": "d0657a48-ce8a-41f0-9c22-4fdbd6ac409c",
   "metadata": {},
   "outputs": [
    {
     "data": {
      "text/plain": [
       "0.0"
      ]
     },
     "execution_count": 210,
     "metadata": {},
     "output_type": "execute_result"
    }
   ],
   "source": [
    "min"
   ]
  },
  {
   "cell_type": "code",
   "execution_count": 211,
   "id": "76a37a9c-3186-49ed-a56e-3a0a4ea2eb0b",
   "metadata": {},
   "outputs": [],
   "source": [
    "sum=rain.sum()"
   ]
  },
  {
   "cell_type": "code",
   "execution_count": 212,
   "id": "a687487c-08c3-4db3-a125-19d2b86001c5",
   "metadata": {},
   "outputs": [
    {
     "data": {
      "text/plain": [
       "74.16"
      ]
     },
     "execution_count": 212,
     "metadata": {},
     "output_type": "execute_result"
    }
   ],
   "source": [
    "sum"
   ]
  },
  {
   "cell_type": "code",
   "execution_count": 213,
   "id": "8e12435c-99cb-44bc-8092-4519ecbc1dde",
   "metadata": {},
   "outputs": [],
   "source": [
    "# groupby function\n",
    "# check missing values : isNull() and notNull()\n",
    "# df.bfill() and df.ffill()\n",
    "# df.fillna(0)\n",
    "# dropna() drops the rows having empty values\n",
    "# df.duplicated()\n",
    "# Create a program to do min max normalization\n",
    "# Create a program for z score normalization"
   ]
  },
  {
   "cell_type": "code",
   "execution_count": 214,
   "id": "5541d9e5-9d6c-482a-bd34-5182eeb1275f",
   "metadata": {},
   "outputs": [],
   "source": [
    "nor_rain=mydf['Rain'].to_numpy()"
   ]
  },
  {
   "cell_type": "code",
   "execution_count": 215,
   "id": "9ecec941-16e9-4f39-8001-fdfef0f45f0a",
   "metadata": {},
   "outputs": [
    {
     "data": {
      "text/plain": [
       "0.0"
      ]
     },
     "execution_count": 215,
     "metadata": {},
     "output_type": "execute_result"
    }
   ],
   "source": [
    "nor_min=nor_rain.min()\n",
    "nor_min"
   ]
  },
  {
   "cell_type": "code",
   "execution_count": 216,
   "id": "032c4b85-66c0-4dd2-8e59-fb38f9c0c7bb",
   "metadata": {},
   "outputs": [
    {
     "data": {
      "text/plain": [
       "25.36"
      ]
     },
     "execution_count": 216,
     "metadata": {},
     "output_type": "execute_result"
    }
   ],
   "source": [
    "nor_max=nor_rain.max()\n",
    "nor_max"
   ]
  },
  {
   "cell_type": "code",
   "execution_count": 217,
   "id": "78976e4e-5844-4b36-beca-55537594c7b4",
   "metadata": {},
   "outputs": [],
   "source": [
    "new_min=0\n",
    "new_max=1"
   ]
  },
  {
   "cell_type": "code",
   "execution_count": 219,
   "id": "16658dab-8bce-488d-a6cd-6b358441f92c",
   "metadata": {},
   "outputs": [],
   "source": [
    "# normal=np.zeros\n",
    "# for i in nor_rain:\n",
    "#     i=\n",
    "    "
   ]
  },
  {
   "cell_type": "code",
   "execution_count": null,
   "id": "44be1b0a-bb1f-4715-a475-3c19a6f80fda",
   "metadata": {},
   "outputs": [],
   "source": []
  }
 ],
 "metadata": {
  "kernelspec": {
   "display_name": "Python 3 (ipykernel)",
   "language": "python",
   "name": "python3"
  },
  "language_info": {
   "codemirror_mode": {
    "name": "ipython",
    "version": 3
   },
   "file_extension": ".py",
   "mimetype": "text/x-python",
   "name": "python",
   "nbconvert_exporter": "python",
   "pygments_lexer": "ipython3",
   "version": "3.11.5"
  }
 },
 "nbformat": 4,
 "nbformat_minor": 5
}
