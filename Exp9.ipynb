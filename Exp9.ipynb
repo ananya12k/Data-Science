{
 "cells": [
  {
   "cell_type": "code",
   "execution_count": 1,
   "metadata": {},
   "outputs": [
    {
     "data": {
      "text/plain": [
       "TextBlob(\" His could be a multiline text or paragraph copy\n",
       "from wiki\n",
       "or something else what ever you like.\n",
       "Good Eye\")"
      ]
     },
     "execution_count": 1,
     "metadata": {},
     "output_type": "execute_result"
    }
   ],
   "source": [
    "from textblob import TextBlob\n",
    "import nltk\n",
    "blob = TextBlob(\"\"\" This could be a multiline text or paragraph copy\n",
    "from wiki\n",
    "or something else what ever you like.\n",
    "Good Bye\"\"\")\n",
    "blob.correct() #will correct the spelling mistakes if any."
   ]
  },
  {
   "cell_type": "code",
   "execution_count": 2,
   "metadata": {},
   "outputs": [
    {
     "data": {
      "text/plain": [
       "defaultdict(int,\n",
       "            {'this': 1,\n",
       "             'could': 1,\n",
       "             'be': 1,\n",
       "             'a': 1,\n",
       "             'multiline': 1,\n",
       "             'text': 1,\n",
       "             'or': 2,\n",
       "             'paragraph': 1,\n",
       "             'copy': 1,\n",
       "             'from': 1,\n",
       "             'wiki': 1,\n",
       "             'something': 1,\n",
       "             'else': 1,\n",
       "             'what': 1,\n",
       "             'ever': 1,\n",
       "             'you': 1,\n",
       "             'like': 1,\n",
       "             'good': 1,\n",
       "             'bye': 1})"
      ]
     },
     "execution_count": 2,
     "metadata": {},
     "output_type": "execute_result"
    }
   ],
   "source": [
    "blob.tags # will return list of tuples containing word and its tag, noun, verbe, etc.\n",
    "blob.noun_phrases # will return words that are used as nouns\n",
    "blob.sentences\n",
    "blob.words\n",
    "blob.word_counts"
   ]
  },
  {
   "cell_type": "code",
   "execution_count": 3,
   "metadata": {},
   "outputs": [
    {
     "name": "stdout",
     "output_type": "stream",
     "text": [
      "Sentiment(polarity=0.0, subjectivity=0.0)\n",
      "Sentiment(polarity=0.7, subjectivity=0.6000000000000001)\n"
     ]
    }
   ],
   "source": [
    "for sentence in blob.sentences:\n",
    "    print(sentence.sentiment)"
   ]
  },
  {
   "cell_type": "code",
   "execution_count": 5,
   "metadata": {},
   "outputs": [
    {
     "ename": "AttributeError",
     "evalue": "'str' object has no attribute 'words'",
     "output_type": "error",
     "traceback": [
      "\u001b[1;31m---------------------------------------------------------------------------\u001b[0m",
      "\u001b[1;31mAttributeError\u001b[0m                            Traceback (most recent call last)",
      "Cell \u001b[1;32mIn[5], line 3\u001b[0m\n\u001b[0;32m      1\u001b[0m \u001b[38;5;66;03m# import Word class from textblob\u001b[39;00m\n\u001b[0;32m      2\u001b[0m \u001b[38;5;28;01mfrom\u001b[39;00m \u001b[38;5;21;01mtextblob\u001b[39;00m \u001b[38;5;28;01mimport\u001b[39;00m Word\n\u001b[1;32m----> 3\u001b[0m \u001b[43msentence\u001b[49m\u001b[43m[\u001b[49m\u001b[38;5;241;43m0\u001b[39;49m\u001b[43m]\u001b[49m\u001b[38;5;241;43m.\u001b[39;49m\u001b[43mwords\u001b[49m[\u001b[38;5;241m0\u001b[39m]\u001b[38;5;241m.\u001b[39msingularize()\n\u001b[0;32m      4\u001b[0m sentence[\u001b[38;5;241m0\u001b[39m]\u001b[38;5;241m.\u001b[39mwords[\u001b[38;5;241m-\u001b[39m\u001b[38;5;241m1\u001b[39m]\u001b[38;5;241m.\u001b[39mpluralize()\n\u001b[0;32m      5\u001b[0m w \u001b[38;5;241m=\u001b[39m Word(\u001b[38;5;124m\"\u001b[39m\u001b[38;5;124moctopi\u001b[39m\u001b[38;5;124m\"\u001b[39m)\n",
      "\u001b[1;31mAttributeError\u001b[0m: 'str' object has no attribute 'words'"
     ]
    }
   ],
   "source": [
    "# import Word class from textblob\n",
    "from textblob import Word\n",
    "sentence[0].words[0].singularize()\n",
    "sentence[0].words[-1].pluralize()\n",
    "w = Word(\"octopi\")\n",
    "w.lemmatize()\n",
    "w = Word(\"done\")\n",
    "w.lemmatize(\"v\")\n",
    "Word(\"Beautiful\").definition"
   ]
  },
  {
   "cell_type": "code",
   "execution_count": null,
   "metadata": {},
   "outputs": [
    {
     "data": {
      "text/plain": [
       "[Synset('smart.a.01'),\n",
       " Synset('chic.s.01'),\n",
       " Synset('bright.s.03'),\n",
       " Synset('fresh.s.12'),\n",
       " Synset('smart.s.05'),\n",
       " Synset('smart.s.06'),\n",
       " Synset('smart.s.07')]"
      ]
     },
     "execution_count": 16,
     "metadata": {},
     "output_type": "execute_result"
    }
   ],
   "source": [
    "from textblob.wordnet import VERB,ADJ,ADV,NOUN\n",
    "w = Word(\"Smart\")\n",
    "w.get_synsets(pos=ADJ)"
   ]
  },
  {
   "cell_type": "code",
   "execution_count": null,
   "metadata": {},
   "outputs": [],
   "source": []
  },
  {
   "cell_type": "code",
   "execution_count": null,
   "metadata": {},
   "outputs": [],
   "source": []
  }
 ],
 "metadata": {
  "kernelspec": {
   "display_name": "Python 3",
   "language": "python",
   "name": "python3"
  },
  "language_info": {
   "codemirror_mode": {
    "name": "ipython",
    "version": 3
   },
   "file_extension": ".py",
   "mimetype": "text/x-python",
   "name": "python",
   "nbconvert_exporter": "python",
   "pygments_lexer": "ipython3",
   "version": "3.11.5"
  }
 },
 "nbformat": 4,
 "nbformat_minor": 2
}
