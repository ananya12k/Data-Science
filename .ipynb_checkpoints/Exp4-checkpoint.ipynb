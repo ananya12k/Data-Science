{
 "cells": [
  {
   "cell_type": "code",
   "execution_count": 4,
   "id": "95d761c8-5039-45f6-a266-887b3786a121",
   "metadata": {},
   "outputs": [],
   "source": [
    "import pandas as pd\n",
    "import matplotlib.pyplot as plt"
   ]
  },
  {
   "cell_type": "code",
   "execution_count": 5,
   "id": "7d342f79-4079-4d28-bc11-f3cf927b19a2",
   "metadata": {},
   "outputs": [
    {
     "name": "stdout",
     "output_type": "stream",
     "text": [
      "    Unnamed: 0  Roll No.  Age  Weight Branch  Gender  SSC Result  HSC Result  \\\n",
      "0            0       201   21      78    MBA    Male       86.16       93.60   \n",
      "1            1       202   21      72    MBA    Male       95.50       86.92   \n",
      "2            5       206   21      78    MBA    Male       91.00       74.46   \n",
      "3            6       207   21      72    BCA    Male       89.00       79.53   \n",
      "4            7       208   22      80    MBA    Male       78.83       78.15   \n",
      "5            8       209   22      75    BCA    Male       93.67       81.23   \n",
      "6            9       210   21      80    MBA    Male       93.00       83.53   \n",
      "7           10       211   20      78    MBA    Male       80.83       82.61   \n",
      "8           11       212   20      72    MBA    Male       93.66       79.53   \n",
      "9           12       213   22      80    MBA    Male       81.67       78.16   \n",
      "10          13       214   21      75    BCA    Male       93.33       75.16   \n",
      "11          14       215   21      76    BCA    Male       85.33       78.15   \n",
      "12          15       216   20      58    MBA  Female       83.67       71.85   \n",
      "13          16       217   22      78    BCA    Male       93.16       73.54   \n",
      "14          19       220   21      75    MBA    Male       74.50       73.70   \n",
      "15          20       221   21      56    MBA  Female       93.17       80.67   \n",
      "16          22       223   22      58    MBA  Female       80.67       76.15   \n",
      "17          23       224   20      78    BCA    Male       93.33       81.69   \n",
      "18          24       225   21      72    BCA    Male       83.33       70.76   \n",
      "19          25       226   21      80    MBA    Male       90.00       75.07   \n",
      "20          27       228   22      76    MBA    Male       75.33       73.23   \n",
      "21          28       229   21      52    BCA  Female       88.50       80.15   \n",
      "22          29       230   20      75    MBA    Male       88.50       80.15   \n",
      "23          30       231   20      62    MBA    Male       75.33       73.23   \n",
      "24          31       232   22      56    BCA  Female       83.67       71.85   \n",
      "25          32       233   21      68    MBA    Male       80.83       82.61   \n",
      "26          33       234   21      62    BCA    Male       78.83       78.15   \n",
      "27          34       235   20      60    MBA    Male       91.00       74.46   \n",
      "\n",
      "    Diploma Result  Sem 1  ...  Sem 3  Sem 4  Sem 5  Sem 6  Avg SPI     CPI  \\\n",
      "0              NaN   9.58  ...   9.40   8.70   9.42   9.42     9.28  9.2300   \n",
      "1              NaN   9.53  ...   9.40   9.04   9.00   8.85     9.15  9.0700   \n",
      "2              NaN   9.02  ...   9.16   8.22   8.79   8.65     8.78  8.7000   \n",
      "3              NaN   9.13  ...   9.40   8.04   8.00   9.04     8.76  8.6200   \n",
      "4              NaN   9.40  ...   9.00   8.37   8.38   8.42     8.74  7.3275   \n",
      "5              NaN   8.76  ...   8.60   8.19   8.38   8.81     8.64  8.4900   \n",
      "6              NaN   8.80  ...   9.12   7.85   8.58   8.42     8.62  8.4800   \n",
      "7              NaN   9.11  ...   8.92   8.15   8.58   8.23     8.62  8.4600   \n",
      "8              NaN   8.87  ...   8.96   8.15   8.38   8.27     8.65  8.4300   \n",
      "9              NaN   9.25  ...   9.16    NaN   8.38   8.65     8.67  8.4200   \n",
      "10             NaN   8.25  ...   7.76   7.96   8.79   9.00     8.35  8.3700   \n",
      "11             NaN   8.91  ...   9.16   8.19   7.58   7.85     8.44  8.2000   \n",
      "12             NaN   8.71  ...   9.20   7.74   7.83   7.85     8.43  8.1500   \n",
      "13             NaN   8.60  ...   9.16   7.48   7.79   8.19     8.34  8.1500   \n",
      "14             NaN   9.40  ...   9.20   7.00   7.79   8.23     8.45  8.0400   \n",
      "15             NaN   8.18  ...   8.80   7.11   7.58   8.27     8.00  7.9300   \n",
      "16             NaN   8.64  ...   8.76   7.30   7.58   7.85     8.18  7.8600   \n",
      "17             NaN   8.91  ...   8.44   7.67   7.54   7.81     8.16  7.8600   \n",
      "18             NaN   9.15  ...   8.76   7.11   7.21   7.85     8.13  7.7300   \n",
      "19             NaN   8.09  ...   8.60   7.30   7.17   7.04     7.77  7.3275   \n",
      "20             NaN   8.73  ...   8.56   6.33   6.79   7.12     7.72  7.1900   \n",
      "21             NaN   7.05  ...   7.04   6.63   6.79   7.42     7.06  6.9700   \n",
      "22             NaN   7.05  ...   7.04   6.63   6.79   7.42     7.06  6.9700   \n",
      "23             NaN   8.73  ...   8.56   6.33   6.79   7.12     7.72  7.3275   \n",
      "24             NaN   8.71  ...   9.20   7.74   7.83   7.85     8.43  8.1500   \n",
      "25             NaN   9.11  ...   8.92   8.15   8.58   8.23     8.62  8.4600   \n",
      "26             NaN   9.40  ...   9.00   8.37   8.38   8.42     8.74  8.5400   \n",
      "27             NaN   9.02  ...   9.16   8.22   8.79   8.65     8.78  8.7000   \n",
      "\n",
      "    Placed   Salary  birth_date birth_year  \n",
      "0      Yes  68615.0  2003-09-11       2003  \n",
      "1      Yes  67940.0  2003-02-05       2003  \n",
      "2      Yes  65538.0  2003-04-13       2003  \n",
      "3      Yes  65612.0  2003-10-16       2003  \n",
      "4      Yes  58822.0  2002-11-02       2002  \n",
      "5      Yes  67266.0  2002-11-22       2002  \n",
      "6      Yes  69629.0  2003-03-01       2003  \n",
      "7      Yes  67288.0  2004-02-03       2004  \n",
      "8      Yes  66413.0  2004-09-23       2004  \n",
      "9      Yes  67085.0  2002-01-05       2002  \n",
      "10     Yes  67255.0  2003-07-14       2003  \n",
      "11     Yes  69356.0  2003-01-20       2003  \n",
      "12     Yes  69979.0  2004-12-26       2004  \n",
      "13     Yes  66190.0  2002-09-22       2002  \n",
      "14     Yes  65134.0  2003-10-17       2003  \n",
      "15     Yes  61276.0  2003-08-02       2003  \n",
      "16     Yes  61045.0  2002-11-16       2002  \n",
      "17     Yes  63000.0  2004-09-03       2004  \n",
      "18     Yes  63039.0  2003-10-17       2003  \n",
      "19     Yes  56059.0  2003-09-26       2003  \n",
      "20     Yes  63894.0  2002-08-17       2002  \n",
      "21     Yes  56460.0  2003-05-19       2003  \n",
      "22     Yes  55000.0  2004-04-10       2004  \n",
      "23     Yes  58171.0  2004-08-24       2004  \n",
      "24     Yes  68427.0  2002-02-21       2002  \n",
      "25     Yes  68085.0  2003-01-14       2003  \n",
      "26     Yes  67949.0  2003-11-14       2003  \n",
      "27     Yes  65560.0  2004-03-17       2004  \n",
      "\n",
      "[28 rows x 21 columns]\n"
     ]
    }
   ],
   "source": [
    "# load output.csv\n",
    "details=pd.read_csv('output.csv')\n",
    "print(details)"
   ]
  },
  {
   "cell_type": "code",
   "execution_count": 15,
   "id": "c562a9a0-de29-4601-a3aa-8b0eab99ea86",
   "metadata": {},
   "outputs": [
    {
     "data": {
      "text/plain": [
       "[<matplotlib.lines.Line2D at 0x26994c25750>]"
      ]
     },
     "execution_count": 15,
     "metadata": {},
     "output_type": "execute_result"
    },
    {
     "data": {
      "image/png": "[encoded data removed]",
      "text/plain": [
       "<Figure size 640x480 with 1 Axes>"
      ]
     },
     "metadata": {},
     "output_type": "display_data"
    }
   ],
   "source": [
    "# plt.plot(x,y)\n",
    "plt.plot(details['Salary']) # Y salary,CPI\n",
    "plt.plot(details['CPI'])  # X index"
   ]
  },
  {
   "cell_type": "code",
   "execution_count": null,
   "id": "74b785c9-7b02-4f64-9615-606064455f47",
   "metadata": {},
   "outputs": [],
   "source": [
    "# Do normalisation\n",
    "# X label and Y label"
   ]
  }
 ],
 "metadata": {
  "kernelspec": {
   "display_name": "Python 3 (ipykernel)",
   "language": "python",
   "name": "python3"
  },
  "language_info": {
   "codemirror_mode": {
    "name": "ipython",
    "version": 3
   },
   "file_extension": ".py",
   "mimetype": "text/x-python",
   "name": "python",
   "nbconvert_exporter": "python",
   "pygments_lexer": "ipython3",
   "version": "3.11.5"
  }
 },
 "nbformat": 4,
 "nbformat_minor": 5
}
